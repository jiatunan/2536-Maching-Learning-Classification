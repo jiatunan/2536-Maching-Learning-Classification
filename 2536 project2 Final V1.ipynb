{
 "cells": [
  {
   "cell_type": "code",
   "execution_count": 1,
   "metadata": {},
   "outputs": [],
   "source": [
    "import numpy as np  # for numerical pyhton libraries\n",
    "import pandas as pd\n",
    "from scipy import stats as st\n",
    "\n",
    "import seaborn as sns\n",
    "import matplotlib.pyplot as plt  # for plotting\n",
    "import numpy.matlib"
   ]
  },
  {
   "cell_type": "code",
   "execution_count": 2,
   "metadata": {},
   "outputs": [],
   "source": [
    "file_length = []\n",
    "for m in range(1, 51):\n",
    "    \n",
    "    X = pd.read_csv('Data/Data{}.csv'.format(m), names = ['x11', 'x12', 'x13'])\n",
    "    file_length.append(len(X))\n",
    "    "
   ]
  },
  {
   "cell_type": "code",
   "execution_count": 3,
   "metadata": {},
   "outputs": [],
   "source": [
    "#create x dataframe storing all information from each sequence\n",
    "S=len(file_length) #number of sequence\n",
    "time_max=max(file_length)\n",
    "\n",
    "x1=np.zeros((time_max, S))\n",
    "x2=np.zeros((time_max,S))\n",
    "x3=np.zeros((time_max,S))\n",
    "\n",
    "for s in range(0,S):\n",
    "    X = pd.read_csv('Data/Data{}.csv'.format(s+1), names = ['X1', 'X2', 'X3'])\n",
    "    time=X.shape[0]\n",
    "    x1[:time,s]=X['X1']\n",
    "    x2[:time,s]=X['X2']\n",
    "    x3[:time,s]=X['X3']\n",
    "    "
   ]
  },
  {
   "cell_type": "code",
   "execution_count": 4,
   "metadata": {},
   "outputs": [],
   "source": [
    "# for generating an initial guess\n",
    "def InitialParamGuess(x1,x2,x3, K):\n",
    "    \n",
    "    mu = x1.mean()\n",
    "    sigma = np.std(x1)\n",
    "    lambd = 1/x2.mean()\n",
    "    unique, counts = np.unique(x3, return_counts=True)\n",
    "    cat = counts/sum(counts)\n",
    "    \n",
    "    # add some noise\n",
    "    epsilon = 0.05\n",
    "    mu *= np.sort(np.exp(epsilon * np.random.randn(K)))\n",
    "    sigma *= np.exp(epsilon * np.random.randn(K))\n",
    "    lambd *= np.exp(epsilon * np.random.randn(K))\n",
    "    cat = np.tile(cat,(K,1))\n",
    "\n",
    "    pi = np.ones(K) / K\n",
    "    pi *= np.exp(epsilon * np.random.randn(K))\n",
    "    pi /= np.sum(pi)\n",
    "    \n",
    "    A = np.ones((K,K)) / K\n",
    "    for i in range(K):\n",
    "        \n",
    "        A[i,:] *= np.exp(epsilon * np.random.randn(K))\n",
    "        A[i,:] /= np.sum(A[i,:])\n",
    "\n",
    "    return pi, A, mu, sigma, lambd, cat"
   ]
  },
  {
   "cell_type": "code",
   "execution_count": 5,
   "metadata": {},
   "outputs": [],
   "source": [
    "def psi1(x, mu, sigma):\n",
    "    \n",
    "    \n",
    "    return st.norm.pdf(x,mu, sigma)\n",
    "    #np.exp(-0.5* ((x-mu)/sigma)**2 ) / (np.sqrt(2*np.pi)*sigma)"
   ]
  },
  {
   "cell_type": "code",
   "execution_count": 6,
   "metadata": {},
   "outputs": [],
   "source": [
    "def psi2(x,lambd):\n",
    "    \n",
    "    \n",
    "    return lambd * np.exp(-x * lambd) "
   ]
  },
  {
   "cell_type": "code",
   "execution_count": 7,
   "metadata": {},
   "outputs": [],
   "source": [
    "def psi3(x,j, cat):\n",
    "    \n",
    "    return cat[j,int(x-1)]"
   ]
  },
  {
   "cell_type": "code",
   "execution_count": 8,
   "metadata": {},
   "outputs": [],
   "source": [
    "def psi(x, mu, sigma, lambd, cat):\n",
    "    \n",
    "    # x is 3D\n",
    "    \n",
    "    return st.norm.pdf(x[0],mu, sigma) \\\n",
    "            * lambd * np.exp(-x[1] * lambd) \\\n",
    "            * cat[:,int(x[2]-1)]"
   ]
  },
  {
   "cell_type": "code",
   "execution_count": 9,
   "metadata": {},
   "outputs": [],
   "source": [
    "def forwardFilter(X, pi, A, mu, sigma, lambd, cat):\n",
    "\n",
    "    K = pi.shape[0]\n",
    "    N = X.shape[0]\n",
    "        \n",
    "    alpha = np.zeros((K,N)) \n",
    "    eta = np.zeros(N) \n",
    "    \n",
    "    # initialize filter\n",
    "    alpha[:,0] = psi(X[0], mu, sigma, lambd, cat) * pi\n",
    "\n",
    "    eta[0] = np.sum(alpha[:,0])        \n",
    "    alpha[:,0] /= eta[0]\n",
    "    \n",
    "    # step forward in time    \n",
    "    for t in range(1,N):\n",
    "        \n",
    "        alpha[:,t] = psi(X[t], mu, sigma, lambd, cat) * np.matmul( A.T,alpha[:,t-1] )\n",
    "    \n",
    "        eta[t] = np.sum(alpha[:,t])\n",
    "        alpha[:,t] /= eta[t]\n",
    "    \n",
    "    return eta, alpha"
   ]
  },
  {
   "cell_type": "code",
   "execution_count": 10,
   "metadata": {},
   "outputs": [],
   "source": [
    "def backwardFilter(X, eta, pi, A, mu, sigma, lambd, cat):\n",
    "    \n",
    "    K = pi.shape[0]\n",
    "    N = X.shape[0]\n",
    "    \n",
    "    beta = np.zeros((K,N))\n",
    "    \n",
    "    beta[:,-1] = 1\n",
    "    \n",
    "    for t in range(N-2,-1,-1):\n",
    "        beta[:,t] = np.matmul(A, beta[:,t+1] * psi(X[t+1], mu, sigma, lambd, cat) ) / eta[t+1]\n",
    "        \n",
    "    return beta"
   ]
  },
  {
   "cell_type": "code",
   "execution_count": 11,
   "metadata": {},
   "outputs": [],
   "source": [
    "#perform the e-step\n",
    "def estep(x1, x2, x3, pi, A, mu, sigma, lambd, cat,file_length):\n",
    "    \n",
    "    K = pi.shape[0]\n",
    "    \n",
    "    max_length = max(file_length)\n",
    "    \n",
    "    alpha = np.zeros((K, max_length,len(file_length)))\n",
    "    eta = np.zeros((max_length,len(file_length)))\n",
    "    beta = np.zeros((K, max_length,len(file_length)))\n",
    "    gamma = np.zeros((K, max_length,len(file_length)))\n",
    "    xi = np.zeros((K, K, max_length-1,len(file_length)))\n",
    "\n",
    "    for m in range(0, len(file_length)):\n",
    "\n",
    "\n",
    "        X = pd.DataFrame({'x1': x1[:,m], 'x2': x2[:,m], 'x3': x3[:,m]}).iloc[:file_length[m],:]\n",
    "        X = X.values\n",
    "        \n",
    "        \n",
    "        eta_m, alpha_m = forwardFilter(X, pi, A, mu, sigma, lambd, cat)\n",
    "        eta[:len(X),m], alpha[:,:len(X),m] = eta_m, alpha_m\n",
    "\n",
    "        beta_m = backwardFilter(X, eta_m, pi, A, mu, sigma, lambd, cat)\n",
    "        beta[:,:len(X),m] = beta_m\n",
    "        \n",
    "        gamma[:,:,m] = alpha[:,:,m] * beta[:,:,m]\n",
    "        \n",
    "        for i in range(K):\n",
    "            for j in range(K):\n",
    "\n",
    "                psij = np.zeros(len(X)-1)\n",
    "                psij = psi1(X[1:,0], mu[j], sigma[j])\\\n",
    "                        *psi2(X[1:,1],lambd[j])\\\n",
    "                        *np.array([psi3(x,j,cat) for x in X[1:,2]])\n",
    "\n",
    "\n",
    "                xi[i,j,:len(X)-1,m] = alpha_m[i,:-1] * A[i,j] * psij * beta_m[j,1:] / eta_m[1:]\n",
    "       \n",
    "    return eta, gamma, xi , alpha  ,beta \n",
    "\n",
    "\n"
   ]
  },
  {
   "cell_type": "code",
   "execution_count": 12,
   "metadata": {},
   "outputs": [],
   "source": [
    "#perform the m-step\n",
    "def mstep(x1,x2,x3, gamma, xi,file_length):\n",
    "    \n",
    "    K = gamma.shape[0]\n",
    "    \n",
    "    # update pi\n",
    "    pi = np.sum(gamma[:,0,:],axis=1) #sum all time step\n",
    "    pi /= np.sum(pi) #normalized the results by summing all latent' result\n",
    "    \n",
    "    # update A, mu, sigma, lambda\n",
    "    \n",
    "    A = np.zeros((K,K))\n",
    "    mu = np.zeros(K)    \n",
    "    sigma = np.zeros(K)\n",
    "    lmbda=np.zeros(K)\n",
    "    \n",
    "    cat=np.zeros((K,5))   \n",
    "\n",
    "    \n",
    "    for i in range(K):\n",
    "        \n",
    "        #update A\n",
    "        for j in range(K):\n",
    "            \n",
    "            #kris:\n",
    "            num=0\n",
    "            de=0\n",
    "            for m in range(0, len(file_length)):\n",
    "                if file_length[m]!=max(file_length):\n",
    "                    \n",
    "                    num +=np.sum(xi[i,j,: file_length[m]-1,m])\n",
    "                else:\n",
    "                    num +=np.sum(xi[i,j,:,m])\n",
    "                de += np.sum(gamma[i,:file_length[m]-1,m])\n",
    "                    \n",
    "            A[i,j]=num/de\n",
    "                \n",
    "        #update model parameters\n",
    "\n",
    "        nrm_fac = np.sum(gamma[i,:,:], axis = None)  #可同时用于mu, sigma, lambda的update\n",
    "\n",
    "        mu[i] = np.sum(gamma[i,:,:] * x1, axis = None)/nrm_fac\n",
    "        sigma[i] = np.sqrt(np.sum(gamma[i,:,:] * (x1-mu[i])**2, axis = None) / nrm_fac)\n",
    "\n",
    "        lmbda[i]=nrm_fac/ np.sum(gamma[i,:,:]* x2, axis=None)\n",
    "\n",
    "        for c in range(5):\n",
    "            mask=np.array(x3==c+1)*1     #find all x3=c+1\n",
    "            num=np.sum(gamma[i,:,:]* mask,axis=None)\n",
    "            de=np.sum(gamma[i,:,:],axis=None)\n",
    "            cat[i,c]=num/de\n",
    "\n",
    "    return pi, A, mu, sigma,lmbda,cat"
   ]
  },
  {
   "cell_type": "code",
   "execution_count": 13,
   "metadata": {},
   "outputs": [],
   "source": [
    "#perform EM:\n",
    "def EM(x1,x2,x3, MAX_ITER, K):\n",
    " \n",
    "    pi0, A0, mu0, sigma0, lmbda0, cat0= InitialParamGuess(x1,x2,x3, K)\n",
    "    \n",
    "    pi = [] \n",
    "    A = []\n",
    "    mu = []\n",
    "    sigma = []\n",
    "    lmbda=[]\n",
    "    cat=[]\n",
    "    \n",
    "    pi.append(pi0)\n",
    "    A.append(A0)\n",
    "    mu.append(mu0)\n",
    "    sigma.append(sigma0)\n",
    "    lmbda.append(lmbda0)\n",
    "    cat.append(cat0)\n",
    "    \n",
    "    \n",
    "    for i in range(MAX_ITER):\n",
    "          \n",
    "        # perform e-step\n",
    "        eta, gamma, xi, alpha, beta=estep(x1, x2, x3, pi[i], A[i], mu[i], sigma[i], lmbda[i], cat[i], file_length)\n",
    "        \n",
    "        # peform m-step\n",
    "        pi_new , A_new, mu_new, sigma_new, lmbda_new, cat_new = mstep(x1,x2,x3, gamma, xi, file_length)\n",
    "        \n",
    "        # add in results\n",
    "        pi.append(pi_new)\n",
    "        A.append(A_new)\n",
    "        mu.append(mu_new)\n",
    "        sigma.append(sigma_new) \n",
    "        lmbda.append(lmbda_new)\n",
    "        cat.append(cat_new)\n",
    "\n",
    "    \n",
    "    return pi, A, mu, sigma, lmbda, cat\n",
    "\n"
   ]
  },
  {
   "cell_type": "code",
   "execution_count": 14,
   "metadata": {},
   "outputs": [],
   "source": [
    "#using BIC to select the best model:\n",
    "def BIC(K, MAX_ITER):\n",
    "    \n",
    "    pi, A, mu, sigma, lmbda, cat= EM(x1,x2,x3, MAX_ITER, K)\n",
    "    \n",
    "    S=len(file_length)\n",
    "    ll=0\n",
    "    \n",
    "    for s in range(S):\n",
    "        X = pd.read_csv('Data/Data{}.csv'.format(s+1), names = ['X1', 'X2', 'X3'])\n",
    "        X = X.values\n",
    "        eta,alpha=forwardFilter(X, pi[-1], A[-1], mu[-1], sigma[-1], lmbda[-1], cat[-1])\n",
    "\n",
    "        ll+=np.sum(np.log(eta))\n",
    "        \n",
    "        \n",
    "    d=K*(3+(5-1))+(K-1)+K*(K-1)\n",
    "    bic= -ll+0.5*d * np.log(sum(file_length))\n",
    "    return bic\n",
    "        "
   ]
  },
  {
   "cell_type": "code",
   "execution_count": 16,
   "metadata": {},
   "outputs": [
    {
     "data": {
      "text/plain": [
       "Text(0.5, 0, '$Regimes$')"
      ]
     },
     "execution_count": 16,
     "metadata": {},
     "output_type": "execute_result"
    },
    {
     "data": {
      "image/png": "[encoded data removed]",
      "text/plain": [
       "<Figure size 432x288 with 1 Axes>"
      ]
     },
     "metadata": {
      "needs_background": "light"
     },
     "output_type": "display_data"
    }
   ],
   "source": [
    "Kfit_list=np.arange(2,8,1)\n",
    "bic_list=[]\n",
    "for k in Kfit_list:\n",
    "    bic_list.append(BIC(k,100))\n",
    "    \n",
    " #plot the result\n",
    "plt.plot(Kfit_list,bic_list)\n",
    "plt.title('BIC Score')\n",
    "plt.ylabel(r'$BIC$')\n",
    "plt.xlabel(r'$Regimes$')"
   ]
  },
  {
   "cell_type": "markdown",
   "metadata": {},
   "source": [
    "## Question3: \n",
    "From the learnt model, use the bootstrap approach to generate new samples and re-estimate the model to determine confidence bands on the learnt parameters. Generate 20 re-estimations."
   ]
  },
  {
   "cell_type": "code",
   "execution_count": 15,
   "metadata": {},
   "outputs": [],
   "source": [
    "def Simdata(pi, A, mu, sigma, lmbda, cat):\n",
    "    \n",
    "    time_max=max(file_length)\n",
    "    S=len(file_length)\n",
    "\n",
    "    a1=np.zeros((time_max,S))\n",
    "    a2=np.zeros((time_max,S))\n",
    "    a3=np.zeros((time_max,S))\n",
    "\n",
    "    for s in range(S):\n",
    "\n",
    "        length=file_length[s]\n",
    "\n",
    "        Y=np.zeros(length).astype(int)\n",
    "        X=np.zeros((3,length))\n",
    "\n",
    "        cs_A = np.cumsum(A,axis=1)\n",
    "        cs_pi = np.cumsum(pi)\n",
    "\n",
    "        # draw from the prior\n",
    "\n",
    "        \n",
    "        Y[0]=np.sum(np.random.rand()>cs_pi)\n",
    "        \n",
    "        for t in range(length):\n",
    "            \n",
    "            # generate X1:normal\n",
    "            X[0,t] = mu[Y[t]] + sigma[Y[t]] * np.random.randn()\n",
    "            #generate x2:exp\n",
    "            X[1,t] = -np.log(np.random.rand())/lmbda[Y[t]]\n",
    "            #generate x3\n",
    "            cs_cat=np.cumsum(cat,axis=1)\n",
    "            X[2,t]=np.sum(np.random.rand()>cs_cat[Y[t]]) + 1\n",
    "\n",
    "            # update Y\n",
    "            if t < length-1:\n",
    "                U = numpy.matlib.repmat(np.random.rand(),1,pi.shape[0])\n",
    "                Y[t+1] = np.sum(U > cs_A[Y[t],:], axis=1) \n",
    "\n",
    "        a1[:length,s]=X[0,:]\n",
    "        a2[:length,s]=X[1,:]\n",
    "        a3[:length,s]=X[2,:]\n",
    "\n",
    "    return a1,a2,a3 \n",
    "\n"
   ]
  },
  {
   "cell_type": "code",
   "execution_count": 16,
   "metadata": {},
   "outputs": [],
   "source": [
    "#bootstrap to generate 20 new samples\n",
    "pi_new=[]\n",
    "A_new=[]\n",
    "mu_new=[]\n",
    "sigma_new=[]\n",
    "lmbda_new=[]\n",
    "cat_new=[]\n",
    "\n",
    "pi0, A0, mu0, sigma0, lmbda0, cat0= EM(x1,x2,x3, 50, 3)\n",
    "\n",
    "for i in range(20):\n",
    "    \n",
    "    a1,a2,a3=Simdata(pi0[-1],A0[-1],mu0[-1],sigma0[-1],lmbda0[-1],cat0[-1])\n",
    "    \n",
    "    pi1, A1, mu1, sigma1, lmbda1, cat1= EM(a1,a2,a3, 50, 3)\n",
    "\n",
    "    pi_new.append(np.array([pi1[-1] for _, pi1[-1] in sorted(zip(lmbda1[-1],pi1[-1]))]))\n",
    "    \n",
    "    first=[A1[-1] for _, A1[-1] in sorted(zip(lmbda1[-1],A1[-1]))]\n",
    "    for j in range(3):\n",
    "        first[j]=[first[j] for _, first[j] in sorted(zip(lmbda1[-1],first[j]))]\n",
    "    A_new.append(np.array(first))\n",
    "    mu_new.append(np.array([mu1[-1] for _, mu1[-1] in sorted(zip(lmbda1[-1],mu1[-1]))]))\n",
    "    sigma_new.append(np.array([sigma1[-1] for _, sigma1[-1] in sorted(zip(lmbda1[-1],sigma1[-1]))]))\n",
    "    cat_new.append(np.array([cat1[-1] for _, cat1[-1] in sorted(zip(lmbda1[-1],cat1[-1]))]))\n",
    "    lmbda1[-1].sort()\n",
    "    lmbda_new.append(lmbda1[-1])\n",
    "\n",
    "\n",
    "\n"
   ]
  },
  {
   "cell_type": "code",
   "execution_count": 17,
   "metadata": {
    "collapsed": true,
    "jupyter": {
     "outputs_hidden": true
    }
   },
   "outputs": [
    {
     "data": {
      "text/plain": [
       "[array([ 0.98290792,  4.98819614, 18.66680111]),\n",
       " array([ 0.9834473 ,  5.26555046, 20.45358922]),\n",
       " array([ 0.97325232,  5.04851835, 19.15449147]),\n",
       " array([ 1.01911644,  5.04049987, 19.25283562]),\n",
       " array([ 1.00192216,  5.05164899, 18.89113597]),\n",
       " array([ 1.00606438,  5.53372802, 19.12713904]),\n",
       " array([ 0.93628416,  2.72312497, 12.46670912]),\n",
       " array([ 1.00704688,  4.63516227, 18.36880084]),\n",
       " array([ 0.99800606,  4.74539967, 19.63698208]),\n",
       " array([ 1.02012562,  4.89629737, 20.50560592]),\n",
       " array([ 0.94472066,  5.08813296, 19.58405566]),\n",
       " array([ 0.96837257,  5.11261069, 19.5276097 ]),\n",
       " array([ 0.9571165 ,  5.1262889 , 19.98687256]),\n",
       " array([ 1.00265488,  5.16380588, 21.15353148]),\n",
       " array([ 0.99956458,  4.9222324 , 19.25777525]),\n",
       " array([ 1.0004162 ,  5.19531869, 19.71952651]),\n",
       " array([ 1.00849838,  4.93012882, 18.9562995 ]),\n",
       " array([ 0.98748516,  5.17163923, 20.20641622]),\n",
       " array([ 0.98989261,  4.8498672 , 19.54873431]),\n",
       " array([ 0.93206256,  1.08746981, 10.74439234])]"
      ]
     },
     "execution_count": 17,
     "metadata": {},
     "output_type": "execute_result"
    }
   ],
   "source": [
    "#lmbda_new"
   ]
  },
  {
   "cell_type": "code",
   "execution_count": 18,
   "metadata": {
    "collapsed": true,
    "jupyter": {
     "outputs_hidden": true
    }
   },
   "outputs": [
    {
     "data": {
      "text/plain": [
       "[array([0.0649519, 0.7203393, 0.2147088]),\n",
       " array([0.21742224, 0.60639618, 0.17618158]),\n",
       " array([0.22983507, 0.56390982, 0.20625511]),\n",
       " array([0.12895465, 0.60915346, 0.26189189]),\n",
       " array([0.10361031, 0.66181234, 0.23457736]),\n",
       " array([0.15926211, 0.70654624, 0.13419166]),\n",
       " array([3.24496876e-04, 2.52628453e-01, 7.47047050e-01]),\n",
       " array([0.22669868, 0.67310274, 0.10019858]),\n",
       " array([0.09867354, 0.58807828, 0.31324818]),\n",
       " array([0.20114909, 0.5604515 , 0.23839941]),\n",
       " array([0.13795988, 0.71558164, 0.14645847]),\n",
       " array([0.1716327 , 0.64047107, 0.18789624]),\n",
       " array([0.21097277, 0.56404146, 0.22498577]),\n",
       " array([0.12872516, 0.63240964, 0.23886521]),\n",
       " array([0.15184812, 0.60646366, 0.24168822]),\n",
       " array([0.16841665, 0.64514393, 0.18643942]),\n",
       " array([0.1301033, 0.6883185, 0.1815782]),\n",
       " array([0.13237274, 0.72807962, 0.13954764]),\n",
       " array([0.07460561, 0.81344178, 0.11195261]),\n",
       " array([4.21839590e-04, 2.01559973e-01, 7.98018187e-01])]"
      ]
     },
     "execution_count": 18,
     "metadata": {},
     "output_type": "execute_result"
    }
   ],
   "source": [
    "pi_new"
   ]
  },
  {
   "cell_type": "code",
   "execution_count": 19,
   "metadata": {
    "collapsed": true,
    "jupyter": {
     "outputs_hidden": true
    }
   },
   "outputs": [
    {
     "data": {
      "text/plain": [
       "[array([[0.79270154, 0.08921146, 0.118087  ],\n",
       "        [0.49541242, 0.16566485, 0.33892273],\n",
       "        [0.09913576, 0.18999995, 0.71086429]]),\n",
       " array([[0.78452542, 0.10031224, 0.11516234],\n",
       "        [0.48037194, 0.19201837, 0.32760969],\n",
       "        [0.10691788, 0.17490508, 0.71817704]]),\n",
       " array([[0.77771527, 0.10531257, 0.11697216],\n",
       "        [0.51701654, 0.21699415, 0.26598931],\n",
       "        [0.09037692, 0.1783547 , 0.73126838]]),\n",
       " array([[0.79778515, 0.08871335, 0.1135015 ],\n",
       "        [0.53837933, 0.16624919, 0.29537148],\n",
       "        [0.11769712, 0.19351775, 0.68878512]]),\n",
       " array([[0.79781866, 0.08064761, 0.12153373],\n",
       "        [0.48933452, 0.24089169, 0.26977379],\n",
       "        [0.11623597, 0.17540525, 0.70835877]]),\n",
       " array([[0.79037262, 0.09513109, 0.11449629],\n",
       "        [0.4641421 , 0.24549346, 0.29036443],\n",
       "        [0.12345582, 0.18546724, 0.69107694]]),\n",
       " array([[0.77010195, 0.03560759, 0.19429046],\n",
       "        [0.60239058, 0.07683946, 0.32076996],\n",
       "        [0.2015421 , 0.0564988 , 0.7419591 ]]),\n",
       " array([[0.79564306, 0.0926799 , 0.11167704],\n",
       "        [0.47481059, 0.19906625, 0.32612316],\n",
       "        [0.10300307, 0.19012566, 0.70687127]]),\n",
       " array([[0.7857388 , 0.10351474, 0.11074646],\n",
       "        [0.48829947, 0.22768732, 0.28401322],\n",
       "        [0.11171457, 0.19808849, 0.69019693]]),\n",
       " array([[0.79957315, 0.08022987, 0.12019698],\n",
       "        [0.46990712, 0.21285329, 0.3172396 ],\n",
       "        [0.09505433, 0.21396602, 0.69097965]]),\n",
       " array([[0.78689173, 0.09602661, 0.11708166],\n",
       "        [0.55437271, 0.17281002, 0.27281727],\n",
       "        [0.09179518, 0.18146262, 0.7267422 ]]),\n",
       " array([[0.79541534, 0.0789064 , 0.12567827],\n",
       "        [0.45098922, 0.20946056, 0.33955021],\n",
       "        [0.12217925, 0.16394185, 0.7138789 ]]),\n",
       " array([[0.7869295 , 0.10499046, 0.10808003],\n",
       "        [0.4809022 , 0.21994897, 0.29914883],\n",
       "        [0.10354536, 0.18941466, 0.70703998]]),\n",
       " array([[0.78370855, 0.09551811, 0.12077334],\n",
       "        [0.48710499, 0.19268378, 0.32021123],\n",
       "        [0.10090673, 0.19327197, 0.70582129]]),\n",
       " array([[0.80102552, 0.08585922, 0.11311526],\n",
       "        [0.50527124, 0.16252007, 0.3322087 ],\n",
       "        [0.10294059, 0.18738408, 0.70967533]]),\n",
       " array([[0.79702418, 0.10291212, 0.1000637 ],\n",
       "        [0.48815612, 0.19421889, 0.31762499],\n",
       "        [0.09644396, 0.21598844, 0.6875676 ]]),\n",
       " array([[0.79787369, 0.0905957 , 0.11153061],\n",
       "        [0.45871514, 0.2292291 , 0.31205575],\n",
       "        [0.12725914, 0.16427539, 0.70846547]]),\n",
       " array([[0.78732443, 0.10496742, 0.10770815],\n",
       "        [0.44879792, 0.23552553, 0.31567654],\n",
       "        [0.11292041, 0.17887622, 0.70820337]]),\n",
       " array([[0.79080459, 0.09738768, 0.11180773],\n",
       "        [0.47311601, 0.19454361, 0.33234038],\n",
       "        [0.11641831, 0.17408339, 0.70949829]]),\n",
       " array([[0.5006023 , 0.34931492, 0.15008278],\n",
       "        [0.50326122, 0.22550045, 0.27123833],\n",
       "        [0.10317733, 0.13243042, 0.76439225]])]"
      ]
     },
     "execution_count": 19,
     "metadata": {},
     "output_type": "execute_result"
    }
   ],
   "source": [
    "A_new"
   ]
  },
  {
   "cell_type": "code",
   "execution_count": 20,
   "metadata": {
    "collapsed": true,
    "jupyter": {
     "outputs_hidden": true
    },
    "scrolled": true
   },
   "outputs": [
    {
     "data": {
      "text/plain": [
       "[array([0.10074016, 1.04504156, 0.51473361]),\n",
       " array([0.10279341, 0.98697055, 0.48235879]),\n",
       " array([0.10186787, 1.04779086, 0.50261357]),\n",
       " array([0.10148689, 1.03208751, 0.48875368]),\n",
       " array([0.09864341, 1.0164291 , 0.48480641]),\n",
       " array([0.0987509 , 1.02835166, 0.48824376]),\n",
       " array([0.09999737, 0.40831406, 0.72244362]),\n",
       " array([0.10257075, 1.04760701, 0.49280575]),\n",
       " array([0.10267706, 0.9595936 , 0.48676464]),\n",
       " array([0.10098466, 1.01369375, 0.4939759 ]),\n",
       " array([0.09977332, 1.08047389, 0.50487091]),\n",
       " array([0.10307432, 1.02484729, 0.49513726]),\n",
       " array([0.10137511, 1.04421988, 0.50578162]),\n",
       " array([0.10188992, 1.04983988, 0.49463655]),\n",
       " array([0.09906796, 1.07163723, 0.48947166]),\n",
       " array([0.09793919, 1.00583788, 0.47877877]),\n",
       " array([0.09924564, 1.00031823, 0.50694586]),\n",
       " array([0.09849645, 1.00807161, 0.48919255]),\n",
       " array([0.10513174, 1.04740854, 0.48393533]),\n",
       " array([0.08877498, 0.11846066, 0.81924412])]"
      ]
     },
     "execution_count": 20,
     "metadata": {},
     "output_type": "execute_result"
    }
   ],
   "source": [
    "sigma_new"
   ]
  },
  {
   "cell_type": "code",
   "execution_count": 21,
   "metadata": {
    "collapsed": true,
    "jupyter": {
     "outputs_hidden": true
    },
    "scrolled": true
   },
   "outputs": [
    {
     "data": {
      "text/plain": [
       "[array([[1.16346097e-01, 1.84192112e-01, 6.99018693e-01, 4.18134055e-05,\n",
       "         4.01283858e-04],\n",
       "        [5.55331332e-06, 4.81620604e-15, 2.61223556e-01, 4.71780860e-01,\n",
       "         2.66990031e-01],\n",
       "        [2.02210129e-01, 2.00445385e-01, 1.94035840e-01, 2.21481969e-01,\n",
       "         1.81826678e-01]]),\n",
       " array([[9.07481729e-02, 1.97790379e-01, 7.11010575e-01, 4.50871075e-04,\n",
       "         1.91930845e-09],\n",
       "        [6.38369103e-07, 2.13677082e-03, 2.31979557e-01, 4.61841643e-01,\n",
       "         3.04041391e-01],\n",
       "        [1.84518989e-01, 2.09974117e-01, 1.96100294e-01, 2.23504054e-01,\n",
       "         1.85902545e-01]]),\n",
       " array([[1.06583742e-01, 1.94944417e-01, 6.98431373e-01, 1.87692769e-26,\n",
       "         4.04678933e-05],\n",
       "        [1.37890918e-09, 9.81385263e-04, 2.50990579e-01, 4.74938125e-01,\n",
       "         2.73089909e-01],\n",
       "        [1.99564610e-01, 2.09187994e-01, 2.03196849e-01, 2.23530202e-01,\n",
       "         1.64520344e-01]]),\n",
       " array([[9.95210055e-02, 1.91670353e-01, 7.08067790e-01, 7.40850998e-04,\n",
       "         1.28984632e-13],\n",
       "        [6.75165069e-15, 1.47602615e-14, 2.24338928e-01, 5.11378065e-01,\n",
       "         2.64283007e-01],\n",
       "        [2.03726152e-01, 2.07128639e-01, 1.94846517e-01, 1.96112466e-01,\n",
       "         1.98186226e-01]]),\n",
       " array([[1.02002605e-01, 1.99918280e-01, 6.97398083e-01, 7.05549043e-13,\n",
       "         6.81031618e-04],\n",
       "        [5.42917686e-03, 7.62611438e-10, 2.64372707e-01, 4.59482639e-01,\n",
       "         2.70715476e-01],\n",
       "        [2.11281135e-01, 2.11106451e-01, 1.87348275e-01, 2.00079640e-01,\n",
       "         1.90184499e-01]]),\n",
       " array([[1.04513043e-01, 1.89680886e-01, 7.05806072e-01, 2.89087645e-31,\n",
       "         1.33221606e-13],\n",
       "        [4.94431768e-09, 9.81418390e-09, 2.81566487e-01, 4.50766020e-01,\n",
       "         2.67667479e-01],\n",
       "        [2.21838956e-01, 1.90143924e-01, 1.76913365e-01, 2.27719395e-01,\n",
       "         1.83384361e-01]]),\n",
       " array([[1.00925903e-01, 1.85989182e-01, 7.13084915e-01, 1.07250798e-21,\n",
       "         2.82109900e-14],\n",
       "        [2.26370206e-02, 6.46377313e-02, 3.81384528e-01, 3.74037489e-01,\n",
       "         1.57303231e-01],\n",
       "        [1.54261250e-01, 1.43200967e-01, 2.19129604e-01, 2.80228385e-01,\n",
       "         2.03179794e-01]]),\n",
       " array([[1.03989763e-01, 1.87693379e-01, 7.08285270e-01, 8.02077399e-10,\n",
       "         3.15876546e-05],\n",
       "        [2.82198406e-14, 3.85739336e-11, 2.08503713e-01, 5.23564637e-01,\n",
       "         2.67931650e-01],\n",
       "        [1.99228797e-01, 2.09476196e-01, 1.89945538e-01, 2.06555665e-01,\n",
       "         1.94793804e-01]]),\n",
       " array([[1.02131102e-01, 1.99407771e-01, 6.98451938e-01, 9.18896616e-06,\n",
       "         2.60498365e-11],\n",
       "        [3.62850411e-10, 2.00122333e-03, 2.58203862e-01, 4.79954840e-01,\n",
       "         2.59840075e-01],\n",
       "        [2.05968882e-01, 1.85501506e-01, 2.03347054e-01, 2.33860061e-01,\n",
       "         1.71322497e-01]]),\n",
       " array([[8.82058505e-02, 1.90052249e-01, 7.21547112e-01, 1.94776710e-04,\n",
       "         1.17298370e-08],\n",
       "        [5.55823231e-03, 1.04489431e-03, 2.61283791e-01, 4.77254532e-01,\n",
       "         2.54858551e-01],\n",
       "        [2.11347553e-01, 2.07299546e-01, 1.78760949e-01, 1.95883176e-01,\n",
       "         2.06708775e-01]]),\n",
       " array([[9.27150537e-02, 1.89488872e-01, 7.17796074e-01, 1.03599613e-20,\n",
       "         5.45777036e-10],\n",
       "        [1.45054314e-12, 1.55153253e-15, 2.48724723e-01, 4.90676359e-01,\n",
       "         2.60598919e-01],\n",
       "        [2.07425031e-01, 2.17423021e-01, 1.93458543e-01, 2.08751931e-01,\n",
       "         1.72941473e-01]]),\n",
       " array([[9.47195244e-02, 2.01048944e-01, 7.03275733e-01, 9.55799200e-04,\n",
       "         1.51215927e-51],\n",
       "        [1.57697587e-12, 5.86287881e-05, 2.88984291e-01, 4.63326746e-01,\n",
       "         2.47630335e-01],\n",
       "        [2.22354976e-01, 2.03726733e-01, 1.85339038e-01, 2.06982514e-01,\n",
       "         1.81596739e-01]]),\n",
       " array([[1.00619708e-01, 1.82593782e-01, 7.16783154e-01, 3.35648458e-06,\n",
       "         1.43431710e-25],\n",
       "        [8.78084494e-07, 1.15492717e-04, 2.62946104e-01, 4.83280703e-01,\n",
       "         2.53656823e-01],\n",
       "        [1.93290670e-01, 2.07568227e-01, 1.96961980e-01, 2.11468141e-01,\n",
       "         1.90710982e-01]]),\n",
       " array([[9.91306112e-02, 1.90904552e-01, 7.09964837e-01, 2.10037937e-12,\n",
       "         9.77362996e-23],\n",
       "        [5.25498002e-03, 1.41751923e-03, 2.46945964e-01, 4.99651057e-01,\n",
       "         2.46730480e-01],\n",
       "        [2.07633211e-01, 1.95300931e-01, 2.12864472e-01, 2.11810184e-01,\n",
       "         1.72391201e-01]]),\n",
       " array([[1.08978248e-01, 1.87871932e-01, 7.03148337e-01, 1.48305914e-06,\n",
       "         1.81526572e-14],\n",
       "        [2.08297729e-15, 2.11747648e-10, 2.21021637e-01, 5.06487626e-01,\n",
       "         2.72490737e-01],\n",
       "        [2.13915657e-01, 1.96942125e-01, 1.96335307e-01, 2.00182743e-01,\n",
       "         1.92624168e-01]]),\n",
       " array([[1.08148601e-01, 1.96285668e-01, 6.95565731e-01, 6.44905558e-31,\n",
       "         1.13429025e-12],\n",
       "        [1.02945862e-12, 2.20521684e-03, 2.32678213e-01, 4.72362763e-01,\n",
       "         2.92753807e-01],\n",
       "        [2.20600642e-01, 2.07612301e-01, 1.79036587e-01, 2.04631409e-01,\n",
       "         1.88119061e-01]]),\n",
       " array([[1.04860700e-01, 2.04920362e-01, 6.89899836e-01, 3.30529900e-21,\n",
       "         3.19102767e-04],\n",
       "        [2.10399092e-09, 1.67028306e-03, 2.79870539e-01, 4.52291156e-01,\n",
       "         2.66168019e-01],\n",
       "        [1.96918169e-01, 2.04146449e-01, 1.81555413e-01, 2.29191359e-01,\n",
       "         1.88188610e-01]]),\n",
       " array([[9.92804609e-02, 1.96798860e-01, 7.03920679e-01, 6.35177622e-14,\n",
       "         5.04969515e-20],\n",
       "        [1.45793069e-08, 2.74377540e-10, 2.75540498e-01, 4.48500581e-01,\n",
       "         2.75958907e-01],\n",
       "        [2.05405960e-01, 2.11166994e-01, 1.80873694e-01, 2.06613938e-01,\n",
       "         1.95939414e-01]]),\n",
       " array([[9.51012030e-02, 1.88399127e-01, 7.16499670e-01, 4.38181857e-26,\n",
       "         9.66838108e-22],\n",
       "        [7.22385422e-14, 3.51861651e-11, 2.75500004e-01, 4.34144355e-01,\n",
       "         2.90355640e-01],\n",
       "        [2.06390006e-01, 2.17810641e-01, 1.86841550e-01, 2.07855527e-01,\n",
       "         1.81102276e-01]]),\n",
       " array([[1.03641529e-01, 1.96479215e-01, 6.99879236e-01, 9.74493338e-19,\n",
       "         2.00647406e-08],\n",
       "        [8.98751896e-02, 2.10715518e-01, 6.71238417e-01, 1.84253128e-02,\n",
       "         9.74556248e-03],\n",
       "        [1.48344887e-01, 1.57526384e-01, 2.04184849e-01, 2.80498725e-01,\n",
       "         2.09445154e-01]])]"
      ]
     },
     "execution_count": 21,
     "metadata": {},
     "output_type": "execute_result"
    }
   ],
   "source": [
    "cat_new"
   ]
  },
  {
   "cell_type": "markdown",
   "metadata": {},
   "source": [
    "#### Pi CI"
   ]
  },
  {
   "cell_type": "code",
   "execution_count": 22,
   "metadata": {},
   "outputs": [],
   "source": [
    "sample=len(pi_new)\n",
    "pi1=np.empty(sample)\n",
    "pi2=np.empty(sample)\n",
    "pi3=np.empty(sample)\n",
    "\n",
    "t=st.t.ppf(1-0.025,sample-1)\n",
    "n=np.sqrt(sample)\n",
    "\n",
    "pi_ci_dict = {}\n",
    "for i in range(sample):\n",
    "    \n",
    "    pi1[i]=pi_new[i][0]\n",
    "    pi_ci_dict['pi1_ci']=[pi1.mean()-t*pi1.std()/n, pi1.mean()+t*pi1.std()/n]\n",
    "    \n",
    "    pi2[i]=pi_new[i][1]\n",
    "    pi_ci_dict['pi2_ci']=[pi2.mean()-t*pi2.std()/n, pi2.mean()+t*pi2.std()/n]\n",
    "    \n",
    "    pi3[i]=pi_new[i][2]\n",
    "    pi_ci_dict['pi3_ci']=[pi3.mean()-t*pi3.std()/n, pi3.mean()+t*pi3.std()/n]\n",
    "\n",
    "\n"
   ]
  },
  {
   "cell_type": "markdown",
   "metadata": {},
   "source": [
    "#### Mu CI"
   ]
  },
  {
   "cell_type": "code",
   "execution_count": 23,
   "metadata": {},
   "outputs": [],
   "source": [
    "sample=len(mu_new)\n",
    "mu1=np.empty(sample)\n",
    "mu2=np.empty(sample)\n",
    "mu3=np.empty(sample)\n",
    "\n",
    "t=st.t.ppf(1-0.025,sample-1)\n",
    "n=np.sqrt(sample)\n",
    "\n",
    "mu_ci_dict = {}\n",
    "for i in range(sample):\n",
    "    \n",
    "    mu1[i]=mu_new[i][0]\n",
    "    mu_ci_dict['mu1_ci']=[mu1.mean()-t*mu1.std()/n, mu1.mean()+t*mu1.std()/n]\n",
    "    \n",
    "    mu2[i]=mu_new[i][1]\n",
    "    mu_ci_dict['mu2_ci']=[mu2.mean()-t*mu2.std()/n, mu2.mean()+t*mu2.std()/n]\n",
    "    \n",
    "    mu3[i]=mu_new[i][2]\n",
    "    mu_ci_dict['mu3_ci']=[mu3.mean()-t*mu3.std()/n, mu3.mean()+t*mu3.std()/n]\n"
   ]
  },
  {
   "cell_type": "markdown",
   "metadata": {},
   "source": [
    "#### Sigma CI"
   ]
  },
  {
   "cell_type": "code",
   "execution_count": 24,
   "metadata": {},
   "outputs": [
    {
     "name": "stderr",
     "output_type": "stream",
     "text": [
      "/opt/anaconda3/lib/python3.8/site-packages/numpy/core/_methods.py:195: RuntimeWarning: overflow encountered in multiply\n",
      "  x = um.multiply(x, x, out=x)\n"
     ]
    }
   ],
   "source": [
    "sample=len(sigma_new)\n",
    "sigma1=np.empty(sample)\n",
    "sigma2=np.empty(sample)\n",
    "sigma3=np.empty(sample)\n",
    "\n",
    "t=st.t.ppf(1-0.025,sample-1)\n",
    "n=np.sqrt(sample)\n",
    "sigma_ci_dict = {}\n",
    "for i in range(sample):\n",
    "    \n",
    "    sigma1[i]=sigma_new[i][0]\n",
    "    sigma_ci_dict['sigma1_ci']=[sigma1.mean()-t*sigma1.std()/n, sigma1.mean()+t*sigma1.std()/n]\n",
    "    \n",
    "    sigma2[i]=sigma_new[i][1]\n",
    "    sigma_ci_dict['sigma2_ci']=[sigma2.mean()-t*sigma2.std()/n, sigma2.mean()+t*sigma2.std()/n]\n",
    "    \n",
    "    sigma3[i]=sigma_new[i][2]\n",
    "    sigma_ci_dict['sigma3_ci']=[sigma3.mean()-t*sigma3.std()/n, sigma3.mean()+t*sigma3.std()/n]\n",
    "\n"
   ]
  },
  {
   "cell_type": "markdown",
   "metadata": {},
   "source": [
    "#### Lambda CI"
   ]
  },
  {
   "cell_type": "code",
   "execution_count": 26,
   "metadata": {},
   "outputs": [],
   "source": [
    "sample=len(lmbda_new)\n",
    "lmbda1=np.empty(sample)\n",
    "lmbda2=np.empty(sample)\n",
    "lmbda3=np.empty(sample)\n",
    "\n",
    "t=st.t.ppf(1-0.025,sample-1)\n",
    "n=np.sqrt(sample)\n",
    "\n",
    "lambda_ci_dict = {}\n",
    "for i in range(sample):\n",
    "    \n",
    "    lmbda1[i]=lmbda_new[i][0]\n",
    "    lambda_ci_dict['lmbda1_ci']=[lmbda1.mean()-t*lmbda1.std()/n, lmbda1.mean()+t*lmbda1.std()/n]\n",
    "    \n",
    "    lmbda2[i]=lmbda_new[i][1]\n",
    "    lambda_ci_dict['lmbda2_ci']=[lmbda2.mean()-t*lmbda2.std()/n, lmbda2.mean()+t*lmbda2.std()/n]\n",
    "    \n",
    "    lmbda3[i]=lmbda_new[i][2]\n",
    "    lambda_ci_dict['lmbda3_ci']=[lmbda3.mean()-t*lmbda3.std()/n, lmbda3.mean()+t*lmbda3.std()/n]\n",
    "\n",
    "\n"
   ]
  },
  {
   "cell_type": "markdown",
   "metadata": {},
   "source": [
    "#### A CI"
   ]
  },
  {
   "cell_type": "code",
   "execution_count": 27,
   "metadata": {},
   "outputs": [],
   "source": [
    "sample=len(A_new)\n",
    "\n",
    "t=st.t.ppf(1-0.025,sample-1)\n",
    "n=np.sqrt(sample)\n",
    "\n",
    "\n",
    "A_ci_dict = {}\n",
    "    \n",
    "for j in range(3):\n",
    "\n",
    "    for k in range(3):\n",
    "        \n",
    "        Ah = np.empty(sample)\n",
    "        \n",
    "        for i in range(sample):\n",
    "            \n",
    "            \n",
    "            Ah[i] = A_new[i][j][k]\n",
    "            \n",
    "            A_ci_dict['A{}{}_ci'.format(j+1,k+1)] = [Ah.mean()-t*Ah.std()/n, Ah.mean()+t*Ah.std()/n]\n",
    "            \n",
    "            "
   ]
  },
  {
   "cell_type": "markdown",
   "metadata": {},
   "source": [
    "#### cat CI"
   ]
  },
  {
   "cell_type": "code",
   "execution_count": 28,
   "metadata": {},
   "outputs": [],
   "source": [
    "sample=len(cat_new)\n",
    "\n",
    "t=st.t.ppf(1-0.025,sample-1)\n",
    "n=np.sqrt(sample)\n",
    "\n",
    "\n",
    "cat_ci_dict = {}\n",
    "    \n",
    "for j in range(3):\n",
    "\n",
    "    for k in range(5):\n",
    "        \n",
    "        cath = np.empty(sample)\n",
    "        \n",
    "        for i in range(sample):\n",
    "            \n",
    "            \n",
    "            cath[i] = cat_new[i][j][k]\n",
    "            \n",
    "            cat_ci_dict['cat{}{}_ci'.format(j+1,k+1)] = [cath.mean()-t*cath.std()/n, cath.mean()+t*cath.std()/n]\n",
    "            \n",
    "            "
   ]
  },
  {
   "cell_type": "code",
   "execution_count": 29,
   "metadata": {},
   "outputs": [
    {
     "name": "stdout",
     "output_type": "stream",
     "text": [
      "The Confidence Interval at 95% sigfinicance level for pi\n",
      "{'pi1_ci': [0.10641748773517046, 0.1673765984786607], 'pi2_ci': [0.5422843270176224, 0.6755086290919431], 'pi3_ci': [0.16974478373263885, 0.33866817394396426]}\n",
      "--- ** ---\n",
      "The Confidence Interval at 95% sigfinicance level for A\n",
      "{'A11_ci': [0.7461953503206422, 0.8057621948403124], 'A12_ci': [0.07660976665354916, 0.1311741395688068], 'A13_ci': [0.11100120119184571, 0.12925734742484365], 'A21_ci': [0.4766595210622313, 0.5104156180147031], 'A22_ci': [0.1814957058173809, 0.21652419626147484], 'A23_ci': [0.2963071009388089, 0.3185978579054008], 'A31_ci': [0.10136778404592182, 0.12290419558924721], 'A32_ci': [0.16155529032573607, 0.1921905106726512], 'A33_ci': [0.7023072641773782, 0.7196749551890655]}\n",
      "--- ** ---\n",
      "The Confidence Interval at 95% sigfinicance level for mu\n",
      "{'mu1_ci': [-1.0024113908767547, -0.9998465689716384], 'mu2_ci': [-0.2286867649485888, 0.0648152377031177], 'mu3_ci': [0.9626112923050905, 1.0275728734097807]}\n",
      "--- ** ---\n",
      "The Confidence Interval at 95% sigfinicance level for sigma\n",
      "{'sigma1_ci': [0.0987618512915225, 0.10176625880002373], 'sigma2_ci': [0.8415670813701149, 1.0621323942580767], 'sigma3_ci': [0.4814613716662184, 0.5610880641708598]}\n",
      "--- ** ---\n",
      "The Confidence Interval at 95% sigfinicance level for lambda\n",
      "{'lmbda1_ci': [0.9739674211496373, 0.9979283127841966], 'lmbda2_ci': [4.263629892135326, 5.193932178458785], 'lmbda3_ci': [17.596642641921374, 19.924287749609025]}\n",
      "--- ** ---\n",
      "The Confidence Interval at 95% sigfinicance level for categorical\n",
      "{'cat11_ci': [0.09806225847803801, 0.10415403382516275], 'cat12_ci': [0.19002202270913496, 0.19559100922668496], 'cat13_ci': [0.7020180744957238, 0.70976543638708], 'cat14_ci': [-4.708219697507145e-06, 0.000244522290014724], 'cat15_ci': [-8.775765051310562e-06, 0.00015612657290950326], 'cat21_ci': [-0.002833439341114897, 0.015709608591222408], 'cat22_ci': [-0.007722337632613301, 0.03642080511582994], 'cat23_ci': [0.23643902559077026, 0.32629078397710737], 'cat24_ci': [0.3993608096350782, 0.4960537411815588], 'cat25_ci': [0.2211985112301036, 0.2790824916520577], 'cat31_ci': [0.1919741864653473, 0.20964837979685208], 'cat32_ci': [0.1910304759381373, 0.20823837713489388], 'cat33_ci': [0.18779306500590875, 0.19831450698240494], 'cat34_ci': [0.20799897082291918, 0.22969517770180659], 'cat35_ci': [0.1821788006187197, 0.19312805953301013]}\n",
      "--- ** ---\n"
     ]
    }
   ],
   "source": [
    "ci=[pi_ci_dict,A_ci_dict,mu_ci_dict, sigma_ci_dict,lambda_ci_dict,cat_ci_dict]\n",
    "name=['pi','A','mu','sigma','lambda','categorical']\n",
    "\n",
    "for i in range(len(ci)):\n",
    "    print('The Confidence Interval at 95% sigfinicance level for '+ name[i])\n",
    "    print(ci[i])\n",
    "    print('--- ** ---')"
   ]
  },
  {
   "cell_type": "code",
   "execution_count": 97,
   "metadata": {},
   "outputs": [],
   "source": [
    "pi0, A0, mu0, sigma0, lmbda0, cat0= EM(x1,x2,x3, 50, 3)"
   ]
  },
  {
   "cell_type": "markdown",
   "metadata": {},
   "source": [
    "## Here is the results from the original sample"
   ]
  },
  {
   "cell_type": "code",
   "execution_count": 98,
   "metadata": {},
   "outputs": [
    {
     "data": {
      "text/plain": [
       "[0.15150555929329435, 0.6604546277680509, 0.1880398129386547]"
      ]
     },
     "execution_count": 98,
     "metadata": {},
     "output_type": "execute_result"
    }
   ],
   "source": [
    "[pi0[-1] for _, pi0[-1] in sorted(zip(lmbda0[-1],pi0[-1]))]"
   ]
  },
  {
   "cell_type": "code",
   "execution_count": 99,
   "metadata": {},
   "outputs": [
    {
     "data": {
      "text/plain": [
       "[-1.0012533810761253, 0.013443758093812095, 1.0230373965097277]"
      ]
     },
     "execution_count": 99,
     "metadata": {},
     "output_type": "execute_result"
    }
   ],
   "source": [
    "[mu0[-1] for _, mu0[-1] in sorted(zip(lmbda0[-1],mu0[-1]))]"
   ]
  },
  {
   "cell_type": "code",
   "execution_count": 100,
   "metadata": {},
   "outputs": [
    {
     "data": {
      "text/plain": [
       "[0.10161146216321237, 1.0364380840105563, 0.4957719035729562]"
      ]
     },
     "execution_count": 100,
     "metadata": {},
     "output_type": "execute_result"
    }
   ],
   "source": [
    "[sigma0[-1] for _,sigma0[-1] in sorted(zip(lmbda0[-1],sigma0[-1]))]"
   ]
  },
  {
   "cell_type": "code",
   "execution_count": 101,
   "metadata": {},
   "outputs": [
    {
     "data": {
      "text/plain": [
       "[array([1.02179721e-01, 1.95338188e-01, 7.02482091e-01, 6.08546825e-10,\n",
       "        1.22735717e-13]),\n",
       " array([1.17672009e-12, 1.17906861e-04, 2.46832108e-01, 4.82773915e-01,\n",
       "        2.70276069e-01]),\n",
       " array([0.20246759, 0.20894206, 0.19067371, 0.21014983, 0.18776681])]"
      ]
     },
     "execution_count": 101,
     "metadata": {},
     "output_type": "execute_result"
    }
   ],
   "source": [
    "[cat0[-1] for _, cat0[-1] in sorted(zip(lmbda0[-1],cat0[-1]))]"
   ]
  },
  {
   "cell_type": "code",
   "execution_count": 102,
   "metadata": {},
   "outputs": [],
   "source": [
    "a=[A0[-1] for _, A0[-1] in sorted(zip(lmbda0[-1],A0[-1]))]"
   ]
  },
  {
   "cell_type": "code",
   "execution_count": 103,
   "metadata": {},
   "outputs": [],
   "source": [
    "for j in range(3):\n",
    "    a[j]=[a[j] for _, a[j] in sorted(zip(lmbda0[-1],a[j]))]\n",
    "   "
   ]
  },
  {
   "cell_type": "code",
   "execution_count": 104,
   "metadata": {},
   "outputs": [
    {
     "data": {
      "text/plain": [
       "[[0.793373825160998, 0.09240913158875044, 0.11421704325025221],\n",
       " [0.5005203785862111, 0.19463898694038698, 0.3048406344734016],\n",
       " [0.11179972518504415, 0.1864279613367723, 0.7017723134781836]]"
      ]
     },
     "execution_count": 104,
     "metadata": {},
     "output_type": "execute_result"
    }
   ],
   "source": [
    "a #transaction metix  with the right order"
   ]
  },
  {
   "cell_type": "code",
   "execution_count": 105,
   "metadata": {},
   "outputs": [
    {
     "data": {
      "text/plain": [
       "{'A11_ci': [0.7461953503206422, 0.8057621948403124],\n",
       " 'A12_ci': [0.07660976665354916, 0.1311741395688068],\n",
       " 'A13_ci': [0.11100120119184571, 0.12925734742484365],\n",
       " 'A21_ci': [0.4766595210622313, 0.5104156180147031],\n",
       " 'A22_ci': [0.1814957058173809, 0.21652419626147484],\n",
       " 'A23_ci': [0.2963071009388089, 0.3185978579054008],\n",
       " 'A31_ci': [0.10136778404592182, 0.12290419558924721],\n",
       " 'A32_ci': [0.16155529032573607, 0.1921905106726512],\n",
       " 'A33_ci': [0.7023072641773782, 0.7196749551890655]}"
      ]
     },
     "execution_count": 105,
     "metadata": {},
     "output_type": "execute_result"
    }
   ],
   "source": [
    "A_ci_dict"
   ]
  },
  {
   "cell_type": "code",
   "execution_count": 106,
   "metadata": {},
   "outputs": [
    {
     "data": {
      "text/plain": [
       "array([ 0.98856623,  5.03233506, 19.39104848])"
      ]
     },
     "execution_count": 106,
     "metadata": {},
     "output_type": "execute_result"
    }
   ],
   "source": [
    "np.sort(lmbda0[-1])"
   ]
  },
  {
   "cell_type": "code",
   "execution_count": 116,
   "metadata": {},
   "outputs": [
    {
     "data": {
      "text/plain": [
       "{'A11_ci': [0.7461953503206422, 0.8057621948403124],\n",
       " 'A12_ci': [0.07660976665354916, 0.1311741395688068],\n",
       " 'A13_ci': [0.11100120119184571, 0.12925734742484365],\n",
       " 'A21_ci': [0.4766595210622313, 0.5104156180147031],\n",
       " 'A22_ci': [0.1814957058173809, 0.21652419626147484],\n",
       " 'A23_ci': [0.2963071009388089, 0.3185978579054008],\n",
       " 'A31_ci': [0.10136778404592182, 0.12290419558924721],\n",
       " 'A32_ci': [0.16155529032573607, 0.1921905106726512],\n",
       " 'A33_ci': [0.7023072641773782, 0.7196749551890655]}"
      ]
     },
     "execution_count": 116,
     "metadata": {},
     "output_type": "execute_result"
    }
   ],
   "source": [
    "A_ci_dict"
   ]
  },
  {
   "cell_type": "code",
   "execution_count": null,
   "metadata": {},
   "outputs": [],
   "source": []
  }
 ],
 "metadata": {
  "kernelspec": {
   "display_name": "Python 3",
   "language": "python",
   "name": "python3"
  },
  "language_info": {
   "codemirror_mode": {
    "name": "ipython",
    "version": 3
   },
   "file_extension": ".py",
   "mimetype": "text/x-python",
   "name": "python",
   "nbconvert_exporter": "python",
   "pygments_lexer": "ipython3",
   "version": "3.8.3"
  }
 },
 "nbformat": 4,
 "nbformat_minor": 4
}
